{
 "cells": [
  {
   "cell_type": "code",
   "execution_count": null,
   "metadata": {},
   "outputs": [],
   "source": [
    "def validare_cui(cui):\n",
    "    if not isinstance(cui, int): return False\n",
    "    if len(str(cui))>10: return False\n",
    "    cheie_testare='753217532'\n",
    "    cheie_testare_i=cheie_testare[::-1]\n",
    "    cuii=str(cui)[::-1][1:]\n",
    "    cifra_control=cui%10\n",
    "    suma=0\n",
    "    for index,val in enumerate(cuii):\n",
    "        suma+=int(val)*int(cheie_testare_i[index])\n",
    "    ccontrol=((suma*10)%11)%10\n",
    "    if ccontrol ==  cifra_control:\n",
    "        return True\n",
    "    else:\n",
    "        return False"
   ]
  }
 ],
 "metadata": {
  "kernelspec": {
   "display_name": "python_paul",
   "language": "python",
   "name": "python_paul"
  },
  "language_info": {
   "codemirror_mode": {
    "name": "ipython",
    "version": 3
   },
   "file_extension": ".py",
   "mimetype": "text/x-python",
   "name": "python",
   "nbconvert_exporter": "python",
   "pygments_lexer": "ipython3",
   "version": "3.6.3"
  }
 },
 "nbformat": 4,
 "nbformat_minor": 2
}
