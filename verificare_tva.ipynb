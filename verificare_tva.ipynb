{
 "cells": [
  {
   "cell_type": "code",
   "execution_count": 1,
   "metadata": {},
   "outputs": [],
   "source": [
    "\"\"\" \n",
    "Implementare api anaf - https://static.anaf.ro/static/10/Anaf/Informatii_R/doc_WS_V4.txt\n",
    "\n",
    "Exemplu input\n",
    "\n",
    "listacui=[37943096, 15381132, 1594483, 15560715, 22, 1345563, 14444712,550152,37960402]  # lista coduri cui\n",
    "data=['2018-02-14','2018-02-14','2018-02-14','2018-02-14','2015-02-14','2017-02-14','2016-02-14','2016-02-14','2018-02-14'] #data la care se doresc informatiile despre firma\n",
    "vcui=[True,True,True,True,False,True,True,True,True] #din cauza ca api-ul nu functioneaza cu prea multe coduri cui gresite trebuie limitat requestul \n",
    "#la cui-urile valabile din listacui, vcui True inseamna cui valabil, la final se va returna ERR pentru cui invalid din listacui\n",
    "\n",
    "ls,js = verificare_tva(listacui, data,vcui)\n",
    "\n",
    "Exemplu output\n",
    "\n",
    "ls = ['VIAFORM X S.R.L.', 'AMG CERT SRL', 'REGIO IMPEX SRL', 'OPTOTEL COM SRL', 'ERR', 'ADDECO SRL', 'ELIT S.R.L.', 'COVALACT SA', 'RENDERLIFE S.R.L.']\n",
    "js = [False, True, True, True, 'ERR', True, True, True, False]\n",
    "\"\"\"\n",
    "import json\n",
    "\n",
    "import requests\n",
    "\n",
    "url = 'https://webservicesp.anaf.ro/PlatitorTvaRest/api/v4/ws/tva'\n",
    "headers = {\"Content-Type\": \"application/json\"}\n",
    "\n",
    "\n",
    "def verificare_tva(listacui, data, vcui):\n",
    "    data_api = [{'cui': val, 'data': data[index]} for index, val in enumerate(listacui) if vcui[index]]\n",
    "    r = requests.post(url, json=data_api, headers=headers)\n",
    "    print(\"ANAF-Status Cerere TVA\", r.status_code, r.reason)\n",
    "    lista_raspuns = json.loads(r.content)['found']\n",
    "    nume_anaf = [i['denumire'] for i in lista_raspuns]\n",
    "    status_tva = [i['scpTVA'] for i in lista_raspuns]\n",
    "    nn_anaf = []\n",
    "    tva_anaf = []\n",
    "    ic = 0\n",
    "    for index, val in enumerate(vcui):\n",
    "        if val:\n",
    "            nn_anaf.append(nume_anaf[ic])\n",
    "            tva_anaf.append(status_tva[ic])\n",
    "            ic += 1\n",
    "        else:\n",
    "            nn_anaf.append('ERR')\n",
    "            tva_anaf.append('ERR')\n",
    "    return nn_anaf, tva_anaf\n",
    "\n",
    "\n",
    "# r.__dict__ afiseaza caracteristici obiect"
   ]
  }
 ],
 "metadata": {
  "kernelspec": {
   "display_name": "python_paul",
   "language": "python",
   "name": "python_paul"
  },
  "language_info": {
   "codemirror_mode": {
    "name": "ipython",
    "version": 3
   },
   "file_extension": ".py",
   "mimetype": "text/x-python",
   "name": "python",
   "nbconvert_exporter": "python",
   "pygments_lexer": "ipython3",
   "version": "3.6.3"
  }
 },
 "nbformat": 4,
 "nbformat_minor": 2
}
